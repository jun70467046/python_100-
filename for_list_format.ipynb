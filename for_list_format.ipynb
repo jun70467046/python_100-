{
 "cells": [
  {
   "cell_type": "markdown",
   "metadata": {},
   "source": [
    "### for_list_format\n"
   ]
  },
  {
   "cell_type": "code",
   "execution_count": 3,
   "metadata": {},
   "outputs": [
    {
     "name": "stdout",
     "output_type": "stream",
     "text": [
      "[1, 2, 3, 4, 5]\n"
     ]
    }
   ],
   "source": [
    "num = [1,2,3,4,5]\n",
    "print(num)"
   ]
  },
  {
   "cell_type": "code",
   "execution_count": 4,
   "metadata": {},
   "outputs": [
    {
     "data": {
      "text/plain": [
       "list"
      ]
     },
     "execution_count": 4,
     "metadata": {},
     "output_type": "execute_result"
    }
   ],
   "source": [
    "type(num)"
   ]
  },
  {
   "cell_type": "code",
   "execution_count": 5,
   "metadata": {},
   "outputs": [
    {
     "name": "stdout",
     "output_type": "stream",
     "text": [
      "1 번/2 번/3 번/4 번/5 번/"
     ]
    }
   ],
   "source": [
    "for i in num:\n",
    "    print(i,'번',end = '/')"
   ]
  },
  {
   "cell_type": "code",
   "execution_count": 24,
   "metadata": {},
   "outputs": [
    {
     "name": "stdout",
     "output_type": "stream",
     "text": [
      "1번 2번 3번 4번 5번 "
     ]
    }
   ],
   "source": [
    "for i in num:\n",
    "    print('%d번' %i,  end = ' ')"
   ]
  },
  {
   "cell_type": "code",
   "execution_count": 10,
   "metadata": {},
   "outputs": [
    {
     "name": "stdout",
     "output_type": "stream",
     "text": [
      "i는 0이다\n"
     ]
    }
   ],
   "source": [
    "i=0\n",
    "if i==0 :\n",
    "    print('i는 0이다')\n",
    "else:\n",
    "    print('i는 0이 아니다')"
   ]
  },
  {
   "cell_type": "code",
   "execution_count": 12,
   "metadata": {},
   "outputs": [
    {
     "name": "stdout",
     "output_type": "stream",
     "text": [
      "10 는 짝수이다\n"
     ]
    }
   ],
   "source": [
    "i=10\n",
    "if i%2==0 :\n",
    "    print(i,'는 짝수이다')\n",
    "else:\n",
    "    print(i,'i는 홀수이다')"
   ]
  },
  {
   "cell_type": "code",
   "execution_count": 25,
   "metadata": {},
   "outputs": [
    {
     "name": "stdout",
     "output_type": "stream",
     "text": [
      "숫자입력>>>3\n",
      "3 i는 홀수이다\n"
     ]
    }
   ],
   "source": [
    "i = int(input('숫자입력>>>'))\n",
    "if i%2==0 :\n",
    "    print(i,'는 짝수이다')\n",
    "else:\n",
    "    print(i,'는 홀수이다')"
   ]
  },
  {
   "cell_type": "code",
   "execution_count": 27,
   "metadata": {},
   "outputs": [
    {
     "name": "stdout",
     "output_type": "stream",
     "text": [
      "국 영 수 정보 "
     ]
    }
   ],
   "source": [
    "sub = ['국','영','수','정보']\n",
    "for i, s in enumerate(sub):\n",
    "    print(sub[i], end=' ')"
   ]
  },
  {
   "cell_type": "code",
   "execution_count": 31,
   "metadata": {},
   "outputs": [
    {
     "name": "stdout",
     "output_type": "stream",
     "text": [
      "1 교시 국 해당없음\n",
      "2 교시 영 해당없음\n",
      "3 교시 수 해당없음\n",
      "4 교시 정보 합격\n"
     ]
    }
   ],
   "source": [
    "sub = ['국','영','수','정보']\n",
    "for i, s in enumerate(sub):\n",
    "    if sub[i] == '정보':\n",
    "        print(i+1,'교시',sub[i],'합격')\n",
    "    else:\n",
    "        print(i+1,'교시',sub[i],'해당없음')"
   ]
  },
  {
   "cell_type": "code",
   "execution_count": 33,
   "metadata": {},
   "outputs": [
    {
     "name": "stdout",
     "output_type": "stream",
     "text": [
      "야~ 나도 파이썬 할 수 있어\n",
      "파이썬\n",
      "야~ 나도 파이썬 할 수 있어\n",
      "파이썬\n",
      "야~ 나도 파이썬 할 수 있어\n",
      "파이썬\n",
      "야~ 나도 파이썬 할 수 있어\n",
      "파이썬\n",
      "야~ 나도 파이썬 할 수 있어\n",
      "파이썬\n"
     ]
    }
   ],
   "source": [
    "for i in range(1,11):\n",
    "    if i % 2==0:\n",
    "        print('파이썬')\n",
    "    else:\n",
    "        print('야~ 나도 파이썬 할 수 있어')"
   ]
  },
  {
   "cell_type": "markdown",
   "metadata": {},
   "source": [
    "### List"
   ]
  },
  {
   "cell_type": "code",
   "execution_count": 34,
   "metadata": {},
   "outputs": [],
   "source": [
    "juso='  광주광역시 중구 참외전로 6번지 3층 창의관  '"
   ]
  },
  {
   "cell_type": "code",
   "execution_count": 35,
   "metadata": {},
   "outputs": [
    {
     "data": {
      "text/plain": [
       "' 광주광역시 중구 참외전로 6번지 3층 창의관 '"
      ]
     },
     "execution_count": 35,
     "metadata": {},
     "output_type": "execute_result"
    }
   ],
   "source": [
    "juso"
   ]
  },
  {
   "cell_type": "code",
   "execution_count": 51,
   "metadata": {},
   "outputs": [
    {
     "data": {
      "text/plain": [
       "str"
      ]
     },
     "execution_count": 51,
     "metadata": {},
     "output_type": "execute_result"
    }
   ],
   "source": [
    "type(juso)"
   ]
  },
  {
   "cell_type": "code",
   "execution_count": 53,
   "metadata": {},
   "outputs": [
    {
     "data": {
      "text/plain": [
       "26"
      ]
     },
     "execution_count": 53,
     "metadata": {},
     "output_type": "execute_result"
    }
   ],
   "source": [
    "len(juso)"
   ]
  },
  {
   "cell_type": "code",
   "execution_count": 54,
   "metadata": {},
   "outputs": [],
   "source": [
    "juso=juso.strip()"
   ]
  },
  {
   "cell_type": "code",
   "execution_count": 55,
   "metadata": {},
   "outputs": [
    {
     "data": {
      "text/plain": [
       "('광주광역시 중구 참외전로 6번지 3층 창의관', 24)"
      ]
     },
     "execution_count": 55,
     "metadata": {},
     "output_type": "execute_result"
    }
   ],
   "source": [
    "juso, len(juso)"
   ]
  },
  {
   "cell_type": "code",
   "execution_count": 56,
   "metadata": {},
   "outputs": [
    {
     "data": {
      "text/plain": [
       "'광주광역시 중구 참외전로 6번지 3층 창의관'"
      ]
     },
     "execution_count": 56,
     "metadata": {},
     "output_type": "execute_result"
    }
   ],
   "source": [
    "juso"
   ]
  },
  {
   "cell_type": "code",
   "execution_count": 57,
   "metadata": {},
   "outputs": [],
   "source": [
    "addr=juso.split()"
   ]
  },
  {
   "cell_type": "code",
   "execution_count": 58,
   "metadata": {},
   "outputs": [
    {
     "data": {
      "text/plain": [
       "(['광주광역시', '중구', '참외전로', '6번지', '3층', '창의관'], 6, list)"
      ]
     },
     "execution_count": 58,
     "metadata": {},
     "output_type": "execute_result"
    }
   ],
   "source": [
    "addr, len(addr), type(addr)"
   ]
  },
  {
   "cell_type": "code",
   "execution_count": 59,
   "metadata": {},
   "outputs": [
    {
     "data": {
      "text/plain": [
       "(['광주광역시', '중구'], ['6번지', '3층', '창의관'])"
      ]
     },
     "execution_count": 59,
     "metadata": {},
     "output_type": "execute_result"
    }
   ],
   "source": [
    "addr[:2],addr[3:]"
   ]
  },
  {
   "cell_type": "code",
   "execution_count": 61,
   "metadata": {},
   "outputs": [
    {
     "data": {
      "text/plain": [
       "False"
      ]
     },
     "execution_count": 61,
     "metadata": {},
     "output_type": "execute_result"
    }
   ],
   "source": [
    "juso.startswith('인천')"
   ]
  },
  {
   "cell_type": "code",
   "execution_count": 62,
   "metadata": {},
   "outputs": [
    {
     "data": {
      "text/plain": [
       "True"
      ]
     },
     "execution_count": 62,
     "metadata": {},
     "output_type": "execute_result"
    }
   ],
   "source": [
    "juso.endswith('관')"
   ]
  },
  {
   "cell_type": "markdown",
   "metadata": {},
   "source": [
    "### Format"
   ]
  },
  {
   "cell_type": "code",
   "execution_count": 63,
   "metadata": {},
   "outputs": [
    {
     "name": "stdout",
     "output_type": "stream",
     "text": [
      "A is 사과,오렌지\n"
     ]
    }
   ],
   "source": [
    "s = 'A is {},{}'\n",
    "pr = s.format('사과','오렌지')\n",
    "print(pr)"
   ]
  },
  {
   "cell_type": "code",
   "execution_count": 64,
   "metadata": {},
   "outputs": [
    {
     "name": "stdout",
     "output_type": "stream",
     "text": [
      "학교: 인천정보산업고등학교 학번: 20101 이름:최정보\n"
     ]
    }
   ],
   "source": [
    "info_1 = '학교: {} 학번: {} 이름:{}'\n",
    "p = info_1.format('인천정보산업고등학교',20101,'최정보')\n",
    "print(p)"
   ]
  },
  {
   "cell_type": "markdown",
   "metadata": {},
   "source": [
    "### [문제1]30부터 50까지 중에서 홀수만 출력"
   ]
  },
  {
   "cell_type": "code",
   "execution_count": 71,
   "metadata": {},
   "outputs": [
    {
     "name": "stdout",
     "output_type": "stream",
     "text": [
      "30 :홀수\n",
      "32 :홀수\n",
      "34 :홀수\n",
      "36 :홀수\n",
      "38 :홀수\n",
      "40 :홀수\n",
      "42 :홀수\n",
      "44 :홀수\n",
      "46 :홀수\n",
      "48 :홀수\n",
      "50 :홀수\n"
     ]
    }
   ],
   "source": [
    "for i in range(30,51):\n",
    "    if i%2==0:\n",
    "        print(i,':홀수')"
   ]
  },
  {
   "cell_type": "markdown",
   "metadata": {},
   "source": [
    "### [문제2]아이디(문자)를 입력받아 동일하면"
   ]
  },
  {
   "cell_type": "code",
   "execution_count": 6,
   "metadata": {},
   "outputs": [
    {
     "name": "stdout",
     "output_type": "stream",
     "text": [
      "아이디 입력ho\n"
     ]
    }
   ],
   "source": [
    "id=input('아이디 입력')"
   ]
  },
  {
   "cell_type": "code",
   "execution_count": 9,
   "metadata": {},
   "outputs": [
    {
     "data": {
      "text/plain": [
       "'ho'"
      ]
     },
     "execution_count": 9,
     "metadata": {},
     "output_type": "execute_result"
    }
   ],
   "source": [
    "id"
   ]
  },
  {
   "cell_type": "code",
   "execution_count": 10,
   "metadata": {},
   "outputs": [
    {
     "name": "stdout",
     "output_type": "stream",
     "text": [
      "아이디 입력jun\n",
      "안녕하세요 회원님\n"
     ]
    }
   ],
   "source": [
    "id=input('아이디 입력')\n",
    "pa='jun'\n",
    "if id==pa:\n",
    "    print('안녕하세요 회원님')\n",
    "else :\n",
    "    print('그렇지 않으면 회원가입')"
   ]
  },
  {
   "cell_type": "markdown",
   "metadata": {},
   "source": [
    "### [문제3] 입력예) 인천정보산업고/30105/김장민 입력받아\n",
    "- 학교:인천정보산업고\n",
    "- 학번:30105\n",
    "- 이름:김장민"
   ]
  },
  {
   "cell_type": "code",
   "execution_count": 69,
   "metadata": {},
   "outputs": [
    {
     "name": "stdout",
     "output_type": "stream",
     "text": [
      "내용입력>>인천정보산업고/30105/김장민\n"
     ]
    }
   ],
   "source": [
    "stu=list(map(str, input('내용입력>>').split('/')))"
   ]
  },
  {
   "cell_type": "code",
   "execution_count": 70,
   "metadata": {},
   "outputs": [
    {
     "data": {
      "text/plain": [
       "['인천정보산업고', '30105', '김장민']"
      ]
     },
     "execution_count": 70,
     "metadata": {},
     "output_type": "execute_result"
    }
   ],
   "source": [
    "stu"
   ]
  },
  {
   "cell_type": "code",
   "execution_count": null,
   "metadata": {},
   "outputs": [],
   "source": []
  },
  {
   "cell_type": "markdown",
   "metadata": {},
   "source": [
    "### [문제4] 숫자데이터 5개를 입력받아\n",
    "- 합계\n",
    "- 평균"
   ]
  },
  {
   "cell_type": "code",
   "execution_count": 2,
   "metadata": {},
   "outputs": [
    {
     "name": "stdout",
     "output_type": "stream",
     "text": [
      "숫자입력>>>1,2,3,4,5\n",
      "15\n",
      "3.0\n"
     ]
    }
   ],
   "source": [
    "a = list(map(int,input('숫자입력>>>').split(',')))\n",
    "print(sum(a))\n",
    "print(sum(a)/len(a))"
   ]
  },
  {
   "cell_type": "code",
   "execution_count": null,
   "metadata": {},
   "outputs": [],
   "source": []
  }
 ],
 "metadata": {
  "kernelspec": {
   "display_name": "Python 3",
   "language": "python",
   "name": "python3"
  },
  "language_info": {
   "codemirror_mode": {
    "name": "ipython",
    "version": 3
   },
   "file_extension": ".py",
   "mimetype": "text/x-python",
   "name": "python",
   "nbconvert_exporter": "python",
   "pygments_lexer": "ipython3",
   "version": "3.7.4"
  }
 },
 "nbformat": 4,
 "nbformat_minor": 2
}
